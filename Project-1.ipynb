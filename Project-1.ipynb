{
 "cells": [
  {
   "cell_type": "markdown",
   "id": "f4870064",
   "metadata": {},
   "source": [
    "## Creating database and building tables with python"
   ]
  },
  {
   "cell_type": "markdown",
   "id": "4c3d524c",
   "metadata": {},
   "source": [
    "   ### Importing required libraries to work with PostgreSQL and to perform exploratory data analysis"
   ]
  },
  {
   "cell_type": "code",
   "execution_count": 718,
   "id": "2e290db8",
   "metadata": {},
   "outputs": [],
   "source": [
    "import psycopg2\n",
    "import pandas as pd"
   ]
  },
  {
   "cell_type": "markdown",
   "id": "41202068",
   "metadata": {},
   "source": [
    "### Creating a function for creating a database and setting connection without the need to run the whole code everytime in the future"
   ]
  },
  {
   "cell_type": "code",
   "execution_count": 719,
   "id": "707aa52a",
   "metadata": {},
   "outputs": [],
   "source": [
    "def create_database():\n",
    "    #connecting to default database \n",
    "    conn = psycopg2.connect('host = localhost dbname = postgres user = postgres password = root')\n",
    "    #Commiting the transaction\n",
    "    conn.set_session(autocommit = True)\n",
    "    #creating cursor object to execute queries on database\n",
    "    cur = conn.cursor()\n",
    "    \n",
    "    #First we drop any database that exists with same name and create a new database\n",
    "    cur.execute(\"DROP DATABASE IF EXISTS project1\")\n",
    "    cur.execute(\"CREATE DATABASE project1\")\n",
    "    \n",
    "    #Closing the connection\n",
    "    conn.close()\n",
    "    \n",
    "    #connecting to the new database\n",
    "    conn = psycopg2.connect('host = localhost dbname = project1 user = postgres password = root')\n",
    "    cur = conn.cursor()\n",
    "    \n",
    "    return cur, conn"
   ]
  },
  {
   "cell_type": "markdown",
   "id": "a708571c",
   "metadata": {},
   "source": [
    "### Creating a function to drop tables from database"
   ]
  },
  {
   "cell_type": "code",
   "execution_count": 720,
   "id": "9187de16",
   "metadata": {},
   "outputs": [],
   "source": [
    "def drop_tables(cur,conn):\n",
    "    for query in drop_table_queries:\n",
    "        cur.execute(query)\n",
    "        conn.commit()"
   ]
  },
  {
   "cell_type": "markdown",
   "id": "2d90ff12",
   "metadata": {},
   "source": [
    "### Creating a function to create tables in database"
   ]
  },
  {
   "cell_type": "code",
   "execution_count": 721,
   "id": "78ac37e1",
   "metadata": {},
   "outputs": [],
   "source": [
    "def create_tables(cur,conn):\n",
    "    for query in create_table_queries:\n",
    "        cur.execute(query)\n",
    "        conn.commit()"
   ]
  },
  {
   "cell_type": "markdown",
   "id": "d501656d",
   "metadata": {},
   "source": [
    "### Reading csv file and assigning the dataframe to the variable"
   ]
  },
  {
   "cell_type": "code",
   "execution_count": 722,
   "id": "86ddba9a",
   "metadata": {},
   "outputs": [],
   "source": [
    "cities = pd.read_csv('Project1_dataset/cities.csv')"
   ]
  },
  {
   "cell_type": "code",
   "execution_count": 723,
   "id": "b17f250f",
   "metadata": {},
   "outputs": [
    {
     "data": {
      "text/html": [
       "<div>\n",
       "<style scoped>\n",
       "    .dataframe tbody tr th:only-of-type {\n",
       "        vertical-align: middle;\n",
       "    }\n",
       "\n",
       "    .dataframe tbody tr th {\n",
       "        vertical-align: top;\n",
       "    }\n",
       "\n",
       "    .dataframe thead th {\n",
       "        text-align: right;\n",
       "    }\n",
       "</style>\n",
       "<table border=\"1\" class=\"dataframe\">\n",
       "  <thead>\n",
       "    <tr style=\"text-align: right;\">\n",
       "      <th></th>\n",
       "      <th>id</th>\n",
       "      <th>city</th>\n",
       "    </tr>\n",
       "  </thead>\n",
       "  <tbody>\n",
       "    <tr>\n",
       "      <th>0</th>\n",
       "      <td>1</td>\n",
       "      <td>Tel Aviv</td>\n",
       "    </tr>\n",
       "    <tr>\n",
       "      <th>1</th>\n",
       "      <td>2</td>\n",
       "      <td>Ramat Gan</td>\n",
       "    </tr>\n",
       "    <tr>\n",
       "      <th>2</th>\n",
       "      <td>3</td>\n",
       "      <td>Ramat Hasharon</td>\n",
       "    </tr>\n",
       "    <tr>\n",
       "      <th>3</th>\n",
       "      <td>4</td>\n",
       "      <td>Herzelia</td>\n",
       "    </tr>\n",
       "    <tr>\n",
       "      <th>4</th>\n",
       "      <td>5</td>\n",
       "      <td>Givatayim</td>\n",
       "    </tr>\n",
       "  </tbody>\n",
       "</table>\n",
       "</div>"
      ],
      "text/plain": [
       "   id            city\n",
       "0   1        Tel Aviv\n",
       "1   2       Ramat Gan\n",
       "2   3  Ramat Hasharon\n",
       "3   4        Herzelia\n",
       "4   5       Givatayim"
      ]
     },
     "execution_count": 723,
     "metadata": {},
     "output_type": "execute_result"
    }
   ],
   "source": [
    "#displaying first five rows of the dataset \n",
    "cities.head()"
   ]
  },
  {
   "cell_type": "code",
   "execution_count": 724,
   "id": "7dbf9eed",
   "metadata": {},
   "outputs": [],
   "source": [
    "meal_types = pd.read_csv('Project1_dataset/meal_types.csv')"
   ]
  },
  {
   "cell_type": "code",
   "execution_count": 725,
   "id": "fc08472f",
   "metadata": {},
   "outputs": [
    {
     "data": {
      "text/html": [
       "<div>\n",
       "<style scoped>\n",
       "    .dataframe tbody tr th:only-of-type {\n",
       "        vertical-align: middle;\n",
       "    }\n",
       "\n",
       "    .dataframe tbody tr th {\n",
       "        vertical-align: top;\n",
       "    }\n",
       "\n",
       "    .dataframe thead th {\n",
       "        text-align: right;\n",
       "    }\n",
       "</style>\n",
       "<table border=\"1\" class=\"dataframe\">\n",
       "  <thead>\n",
       "    <tr style=\"text-align: right;\">\n",
       "      <th></th>\n",
       "      <th>id</th>\n",
       "      <th>meal_type</th>\n",
       "    </tr>\n",
       "  </thead>\n",
       "  <tbody>\n",
       "    <tr>\n",
       "      <th>0</th>\n",
       "      <td>1</td>\n",
       "      <td>Vegan</td>\n",
       "    </tr>\n",
       "    <tr>\n",
       "      <th>1</th>\n",
       "      <td>2</td>\n",
       "      <td>Cheese</td>\n",
       "    </tr>\n",
       "    <tr>\n",
       "      <th>2</th>\n",
       "      <td>3</td>\n",
       "      <td>Beef</td>\n",
       "    </tr>\n",
       "    <tr>\n",
       "      <th>3</th>\n",
       "      <td>4</td>\n",
       "      <td>Chicken</td>\n",
       "    </tr>\n",
       "  </tbody>\n",
       "</table>\n",
       "</div>"
      ],
      "text/plain": [
       "   id meal_type\n",
       "0   1     Vegan\n",
       "1   2    Cheese\n",
       "2   3      Beef\n",
       "3   4   Chicken"
      ]
     },
     "execution_count": 725,
     "metadata": {},
     "output_type": "execute_result"
    }
   ],
   "source": [
    "meal_types.head()"
   ]
  },
  {
   "cell_type": "code",
   "execution_count": 726,
   "id": "1d70c0dc",
   "metadata": {},
   "outputs": [],
   "source": [
    "meals = pd.read_csv('Project1_dataset/meals.csv')"
   ]
  },
  {
   "cell_type": "code",
   "execution_count": 727,
   "id": "51daf8cb",
   "metadata": {},
   "outputs": [
    {
     "data": {
      "text/html": [
       "<div>\n",
       "<style scoped>\n",
       "    .dataframe tbody tr th:only-of-type {\n",
       "        vertical-align: middle;\n",
       "    }\n",
       "\n",
       "    .dataframe tbody tr th {\n",
       "        vertical-align: top;\n",
       "    }\n",
       "\n",
       "    .dataframe thead th {\n",
       "        text-align: right;\n",
       "    }\n",
       "</style>\n",
       "<table border=\"1\" class=\"dataframe\">\n",
       "  <thead>\n",
       "    <tr style=\"text-align: right;\">\n",
       "      <th></th>\n",
       "      <th>id</th>\n",
       "      <th>restaurant_id</th>\n",
       "      <th>serve_type_id</th>\n",
       "      <th>meal_type_id</th>\n",
       "      <th>hot_cold</th>\n",
       "      <th>meal_name</th>\n",
       "      <th>price</th>\n",
       "    </tr>\n",
       "  </thead>\n",
       "  <tbody>\n",
       "    <tr>\n",
       "      <th>0</th>\n",
       "      <td>1</td>\n",
       "      <td>1</td>\n",
       "      <td>1</td>\n",
       "      <td>2</td>\n",
       "      <td>Cold</td>\n",
       "      <td>Meal 1</td>\n",
       "      <td>43.22</td>\n",
       "    </tr>\n",
       "    <tr>\n",
       "      <th>1</th>\n",
       "      <td>2</td>\n",
       "      <td>1</td>\n",
       "      <td>2</td>\n",
       "      <td>4</td>\n",
       "      <td>Hot</td>\n",
       "      <td>Meal 2</td>\n",
       "      <td>29.22</td>\n",
       "    </tr>\n",
       "    <tr>\n",
       "      <th>2</th>\n",
       "      <td>3</td>\n",
       "      <td>1</td>\n",
       "      <td>3</td>\n",
       "      <td>1</td>\n",
       "      <td>Cold</td>\n",
       "      <td>Meal 3</td>\n",
       "      <td>37.34</td>\n",
       "    </tr>\n",
       "    <tr>\n",
       "      <th>3</th>\n",
       "      <td>4</td>\n",
       "      <td>1</td>\n",
       "      <td>3</td>\n",
       "      <td>2</td>\n",
       "      <td>Hot</td>\n",
       "      <td>Meal 4</td>\n",
       "      <td>52.41</td>\n",
       "    </tr>\n",
       "    <tr>\n",
       "      <th>4</th>\n",
       "      <td>5</td>\n",
       "      <td>1</td>\n",
       "      <td>3</td>\n",
       "      <td>2</td>\n",
       "      <td>Cold</td>\n",
       "      <td>Meal 5</td>\n",
       "      <td>27.75</td>\n",
       "    </tr>\n",
       "  </tbody>\n",
       "</table>\n",
       "</div>"
      ],
      "text/plain": [
       "   id  restaurant_id  serve_type_id  meal_type_id hot_cold meal_name  price\n",
       "0   1              1              1             2     Cold    Meal 1  43.22\n",
       "1   2              1              2             4      Hot    Meal 2  29.22\n",
       "2   3              1              3             1     Cold    Meal 3  37.34\n",
       "3   4              1              3             2      Hot    Meal 4  52.41\n",
       "4   5              1              3             2     Cold    Meal 5  27.75"
      ]
     },
     "execution_count": 727,
     "metadata": {},
     "output_type": "execute_result"
    }
   ],
   "source": [
    "meals.head()"
   ]
  },
  {
   "cell_type": "code",
   "execution_count": 728,
   "id": "9a818aa4",
   "metadata": {},
   "outputs": [],
   "source": [
    "members = pd.read_csv('Project1_dataset/members.csv')"
   ]
  },
  {
   "cell_type": "code",
   "execution_count": 729,
   "id": "b7ded424",
   "metadata": {},
   "outputs": [
    {
     "data": {
      "text/html": [
       "<div>\n",
       "<style scoped>\n",
       "    .dataframe tbody tr th:only-of-type {\n",
       "        vertical-align: middle;\n",
       "    }\n",
       "\n",
       "    .dataframe tbody tr th {\n",
       "        vertical-align: top;\n",
       "    }\n",
       "\n",
       "    .dataframe thead th {\n",
       "        text-align: right;\n",
       "    }\n",
       "</style>\n",
       "<table border=\"1\" class=\"dataframe\">\n",
       "  <thead>\n",
       "    <tr style=\"text-align: right;\">\n",
       "      <th></th>\n",
       "      <th>id</th>\n",
       "      <th>first_name</th>\n",
       "      <th>surname</th>\n",
       "      <th>sex</th>\n",
       "      <th>email</th>\n",
       "      <th>city_id</th>\n",
       "      <th>monthly_budget</th>\n",
       "    </tr>\n",
       "  </thead>\n",
       "  <tbody>\n",
       "    <tr>\n",
       "      <th>0</th>\n",
       "      <td>1</td>\n",
       "      <td>Ollie</td>\n",
       "      <td>Kinney</td>\n",
       "      <td>M</td>\n",
       "      <td>Ol.Kinney@walla.co.il</td>\n",
       "      <td>4</td>\n",
       "      <td>1000.0</td>\n",
       "    </tr>\n",
       "    <tr>\n",
       "      <th>1</th>\n",
       "      <td>2</td>\n",
       "      <td>Landon</td>\n",
       "      <td>Bishop</td>\n",
       "      <td>F</td>\n",
       "      <td>La.Bi@gmail.com</td>\n",
       "      <td>4</td>\n",
       "      <td>500.0</td>\n",
       "    </tr>\n",
       "    <tr>\n",
       "      <th>2</th>\n",
       "      <td>3</td>\n",
       "      <td>Jia</td>\n",
       "      <td>Delarosa</td>\n",
       "      <td>M</td>\n",
       "      <td>Jia.De@gmail.com</td>\n",
       "      <td>4</td>\n",
       "      <td>500.0</td>\n",
       "    </tr>\n",
       "    <tr>\n",
       "      <th>3</th>\n",
       "      <td>4</td>\n",
       "      <td>Valentina</td>\n",
       "      <td>Ratcliffe</td>\n",
       "      <td>F</td>\n",
       "      <td>Va.Ratcliffe@gmail.com</td>\n",
       "      <td>4</td>\n",
       "      <td>600.0</td>\n",
       "    </tr>\n",
       "    <tr>\n",
       "      <th>4</th>\n",
       "      <td>5</td>\n",
       "      <td>Stacie</td>\n",
       "      <td>Patel</td>\n",
       "      <td>F</td>\n",
       "      <td>St.Patel@hotmail.com</td>\n",
       "      <td>3</td>\n",
       "      <td>500.0</td>\n",
       "    </tr>\n",
       "  </tbody>\n",
       "</table>\n",
       "</div>"
      ],
      "text/plain": [
       "   id first_name    surname sex                   email  city_id   \n",
       "0   1      Ollie     Kinney   M   Ol.Kinney@walla.co.il        4  \\\n",
       "1   2     Landon     Bishop   F         La.Bi@gmail.com        4   \n",
       "2   3        Jia   Delarosa   M        Jia.De@gmail.com        4   \n",
       "3   4  Valentina  Ratcliffe   F  Va.Ratcliffe@gmail.com        4   \n",
       "4   5     Stacie      Patel   F    St.Patel@hotmail.com        3   \n",
       "\n",
       "   monthly_budget  \n",
       "0          1000.0  \n",
       "1           500.0  \n",
       "2           500.0  \n",
       "3           600.0  \n",
       "4           500.0  "
      ]
     },
     "execution_count": 729,
     "metadata": {},
     "output_type": "execute_result"
    }
   ],
   "source": [
    "members.head()"
   ]
  },
  {
   "cell_type": "code",
   "execution_count": 730,
   "id": "0aa2b46a",
   "metadata": {},
   "outputs": [],
   "source": [
    "monthly_member_totals = pd.read_csv('Project1_dataset/monthly_member_totals.csv')"
   ]
  },
  {
   "cell_type": "code",
   "execution_count": 731,
   "id": "2396d1d6",
   "metadata": {},
   "outputs": [
    {
     "data": {
      "text/html": [
       "<div>\n",
       "<style scoped>\n",
       "    .dataframe tbody tr th:only-of-type {\n",
       "        vertical-align: middle;\n",
       "    }\n",
       "\n",
       "    .dataframe tbody tr th {\n",
       "        vertical-align: top;\n",
       "    }\n",
       "\n",
       "    .dataframe thead th {\n",
       "        text-align: right;\n",
       "    }\n",
       "</style>\n",
       "<table border=\"1\" class=\"dataframe\">\n",
       "  <thead>\n",
       "    <tr style=\"text-align: right;\">\n",
       "      <th></th>\n",
       "      <th>member_id</th>\n",
       "      <th>first_name</th>\n",
       "      <th>surname</th>\n",
       "      <th>sex</th>\n",
       "      <th>email</th>\n",
       "      <th>city</th>\n",
       "      <th>year</th>\n",
       "      <th>month</th>\n",
       "      <th>order_count</th>\n",
       "      <th>meals_count</th>\n",
       "      <th>monthly_budget</th>\n",
       "      <th>total_expense</th>\n",
       "      <th>balance</th>\n",
       "      <th>commission</th>\n",
       "    </tr>\n",
       "  </thead>\n",
       "  <tbody>\n",
       "    <tr>\n",
       "      <th>0</th>\n",
       "      <td>47</td>\n",
       "      <td>Joyce</td>\n",
       "      <td>Newton</td>\n",
       "      <td>F</td>\n",
       "      <td>Joyce.Ne@gmail.com</td>\n",
       "      <td>Herzelia</td>\n",
       "      <td>2020</td>\n",
       "      <td>1</td>\n",
       "      <td>17</td>\n",
       "      <td>37</td>\n",
       "      <td>1836.15</td>\n",
       "      <td>500.0</td>\n",
       "      <td>-1336.15</td>\n",
       "      <td>136.27950</td>\n",
       "    </tr>\n",
       "    <tr>\n",
       "      <th>1</th>\n",
       "      <td>126</td>\n",
       "      <td>Macey</td>\n",
       "      <td>Almond</td>\n",
       "      <td>M</td>\n",
       "      <td>Macey.Almond@yahoo.com</td>\n",
       "      <td>Tel Aviv</td>\n",
       "      <td>2020</td>\n",
       "      <td>1</td>\n",
       "      <td>30</td>\n",
       "      <td>64</td>\n",
       "      <td>2676.98</td>\n",
       "      <td>1000.0</td>\n",
       "      <td>-1676.98</td>\n",
       "      <td>214.98500</td>\n",
       "    </tr>\n",
       "    <tr>\n",
       "      <th>2</th>\n",
       "      <td>68</td>\n",
       "      <td>Aydin</td>\n",
       "      <td>Hirst</td>\n",
       "      <td>M</td>\n",
       "      <td>Aydin.Hirst@hotmail.com</td>\n",
       "      <td>Tel Aviv</td>\n",
       "      <td>2020</td>\n",
       "      <td>1</td>\n",
       "      <td>24</td>\n",
       "      <td>52</td>\n",
       "      <td>2286.53</td>\n",
       "      <td>1000.0</td>\n",
       "      <td>-1286.53</td>\n",
       "      <td>164.93850</td>\n",
       "    </tr>\n",
       "    <tr>\n",
       "      <th>3</th>\n",
       "      <td>193</td>\n",
       "      <td>Mira</td>\n",
       "      <td>Kent</td>\n",
       "      <td>M</td>\n",
       "      <td>Mi.Kent@walla.co.il</td>\n",
       "      <td>Tel Aviv</td>\n",
       "      <td>2020</td>\n",
       "      <td>1</td>\n",
       "      <td>24</td>\n",
       "      <td>54</td>\n",
       "      <td>2547.62</td>\n",
       "      <td>500.0</td>\n",
       "      <td>-2047.62</td>\n",
       "      <td>193.59125</td>\n",
       "    </tr>\n",
       "    <tr>\n",
       "      <th>4</th>\n",
       "      <td>53</td>\n",
       "      <td>Lilly-Ann</td>\n",
       "      <td>Frey</td>\n",
       "      <td>F</td>\n",
       "      <td>Li.Fr@hotmail.com</td>\n",
       "      <td>Tel Aviv</td>\n",
       "      <td>2020</td>\n",
       "      <td>1</td>\n",
       "      <td>23</td>\n",
       "      <td>50</td>\n",
       "      <td>2456.64</td>\n",
       "      <td>1000.0</td>\n",
       "      <td>-1456.64</td>\n",
       "      <td>193.97650</td>\n",
       "    </tr>\n",
       "  </tbody>\n",
       "</table>\n",
       "</div>"
      ],
      "text/plain": [
       "   member_id first_name surname sex                    email      city  year   \n",
       "0         47      Joyce  Newton   F       Joyce.Ne@gmail.com  Herzelia  2020  \\\n",
       "1        126      Macey  Almond   M   Macey.Almond@yahoo.com  Tel Aviv  2020   \n",
       "2         68      Aydin   Hirst   M  Aydin.Hirst@hotmail.com  Tel Aviv  2020   \n",
       "3        193       Mira    Kent   M      Mi.Kent@walla.co.il  Tel Aviv  2020   \n",
       "4         53  Lilly-Ann    Frey   F        Li.Fr@hotmail.com  Tel Aviv  2020   \n",
       "\n",
       "   month  order_count  meals_count  monthly_budget  total_expense  balance   \n",
       "0      1           17           37         1836.15          500.0 -1336.15  \\\n",
       "1      1           30           64         2676.98         1000.0 -1676.98   \n",
       "2      1           24           52         2286.53         1000.0 -1286.53   \n",
       "3      1           24           54         2547.62          500.0 -2047.62   \n",
       "4      1           23           50         2456.64         1000.0 -1456.64   \n",
       "\n",
       "   commission  \n",
       "0   136.27950  \n",
       "1   214.98500  \n",
       "2   164.93850  \n",
       "3   193.59125  \n",
       "4   193.97650  "
      ]
     },
     "execution_count": 731,
     "metadata": {},
     "output_type": "execute_result"
    }
   ],
   "source": [
    "monthly_member_totals.head()"
   ]
  },
  {
   "cell_type": "code",
   "execution_count": 732,
   "id": "b5966ffe",
   "metadata": {},
   "outputs": [],
   "source": [
    "order_details = pd.read_csv('Project1_dataset/order_details.csv')"
   ]
  },
  {
   "cell_type": "code",
   "execution_count": 733,
   "id": "85941e89",
   "metadata": {},
   "outputs": [
    {
     "data": {
      "text/html": [
       "<div>\n",
       "<style scoped>\n",
       "    .dataframe tbody tr th:only-of-type {\n",
       "        vertical-align: middle;\n",
       "    }\n",
       "\n",
       "    .dataframe tbody tr th {\n",
       "        vertical-align: top;\n",
       "    }\n",
       "\n",
       "    .dataframe thead th {\n",
       "        text-align: right;\n",
       "    }\n",
       "</style>\n",
       "<table border=\"1\" class=\"dataframe\">\n",
       "  <thead>\n",
       "    <tr style=\"text-align: right;\">\n",
       "      <th></th>\n",
       "      <th>id</th>\n",
       "      <th>order_id</th>\n",
       "      <th>meal_id</th>\n",
       "    </tr>\n",
       "  </thead>\n",
       "  <tbody>\n",
       "    <tr>\n",
       "      <th>0</th>\n",
       "      <td>1</td>\n",
       "      <td>3</td>\n",
       "      <td>176</td>\n",
       "    </tr>\n",
       "    <tr>\n",
       "      <th>1</th>\n",
       "      <td>2</td>\n",
       "      <td>5</td>\n",
       "      <td>349</td>\n",
       "    </tr>\n",
       "    <tr>\n",
       "      <th>2</th>\n",
       "      <td>3</td>\n",
       "      <td>5</td>\n",
       "      <td>348</td>\n",
       "    </tr>\n",
       "    <tr>\n",
       "      <th>3</th>\n",
       "      <td>4</td>\n",
       "      <td>5</td>\n",
       "      <td>344</td>\n",
       "    </tr>\n",
       "    <tr>\n",
       "      <th>4</th>\n",
       "      <td>5</td>\n",
       "      <td>5</td>\n",
       "      <td>348</td>\n",
       "    </tr>\n",
       "  </tbody>\n",
       "</table>\n",
       "</div>"
      ],
      "text/plain": [
       "   id  order_id  meal_id\n",
       "0   1         3      176\n",
       "1   2         5      349\n",
       "2   3         5      348\n",
       "3   4         5      344\n",
       "4   5         5      348"
      ]
     },
     "execution_count": 733,
     "metadata": {},
     "output_type": "execute_result"
    }
   ],
   "source": [
    "order_details.head()"
   ]
  },
  {
   "cell_type": "code",
   "execution_count": 734,
   "id": "56d945cd",
   "metadata": {},
   "outputs": [],
   "source": [
    "orders = pd.read_csv('Project1_dataset/orders.csv')"
   ]
  },
  {
   "cell_type": "code",
   "execution_count": 735,
   "id": "9b221aef",
   "metadata": {},
   "outputs": [
    {
     "data": {
      "text/html": [
       "<div>\n",
       "<style scoped>\n",
       "    .dataframe tbody tr th:only-of-type {\n",
       "        vertical-align: middle;\n",
       "    }\n",
       "\n",
       "    .dataframe tbody tr th {\n",
       "        vertical-align: top;\n",
       "    }\n",
       "\n",
       "    .dataframe thead th {\n",
       "        text-align: right;\n",
       "    }\n",
       "</style>\n",
       "<table border=\"1\" class=\"dataframe\">\n",
       "  <thead>\n",
       "    <tr style=\"text-align: right;\">\n",
       "      <th></th>\n",
       "      <th>id</th>\n",
       "      <th>date</th>\n",
       "      <th>hour</th>\n",
       "      <th>member_id</th>\n",
       "      <th>restaurant_id</th>\n",
       "      <th>total_order</th>\n",
       "    </tr>\n",
       "  </thead>\n",
       "  <tbody>\n",
       "    <tr>\n",
       "      <th>0</th>\n",
       "      <td>1</td>\n",
       "      <td>2020-01-01</td>\n",
       "      <td>11:00:00.0000000</td>\n",
       "      <td>25</td>\n",
       "      <td>6</td>\n",
       "      <td>0.0</td>\n",
       "    </tr>\n",
       "    <tr>\n",
       "      <th>1</th>\n",
       "      <td>2</td>\n",
       "      <td>2020-01-01</td>\n",
       "      <td>11:08:00.0000000</td>\n",
       "      <td>122</td>\n",
       "      <td>4</td>\n",
       "      <td>0.0</td>\n",
       "    </tr>\n",
       "    <tr>\n",
       "      <th>2</th>\n",
       "      <td>3</td>\n",
       "      <td>2020-01-01</td>\n",
       "      <td>11:10:00.0000000</td>\n",
       "      <td>62</td>\n",
       "      <td>16</td>\n",
       "      <td>39.0</td>\n",
       "    </tr>\n",
       "    <tr>\n",
       "      <th>3</th>\n",
       "      <td>4</td>\n",
       "      <td>2020-01-01</td>\n",
       "      <td>11:13:00.0000000</td>\n",
       "      <td>171</td>\n",
       "      <td>9</td>\n",
       "      <td>0.0</td>\n",
       "    </tr>\n",
       "    <tr>\n",
       "      <th>4</th>\n",
       "      <td>5</td>\n",
       "      <td>2020-01-01</td>\n",
       "      <td>11:13:00.0000000</td>\n",
       "      <td>152</td>\n",
       "      <td>30</td>\n",
       "      <td>153.0</td>\n",
       "    </tr>\n",
       "  </tbody>\n",
       "</table>\n",
       "</div>"
      ],
      "text/plain": [
       "   id        date              hour  member_id  restaurant_id  total_order\n",
       "0   1  2020-01-01  11:00:00.0000000         25              6          0.0\n",
       "1   2  2020-01-01  11:08:00.0000000        122              4          0.0\n",
       "2   3  2020-01-01  11:10:00.0000000         62             16         39.0\n",
       "3   4  2020-01-01  11:13:00.0000000        171              9          0.0\n",
       "4   5  2020-01-01  11:13:00.0000000        152             30        153.0"
      ]
     },
     "execution_count": 735,
     "metadata": {},
     "output_type": "execute_result"
    }
   ],
   "source": [
    "orders.head()"
   ]
  },
  {
   "cell_type": "code",
   "execution_count": 736,
   "id": "c150f723",
   "metadata": {},
   "outputs": [],
   "source": [
    "restaurant_types = pd.read_csv('Project1_dataset/restaurant_types.csv')"
   ]
  },
  {
   "cell_type": "code",
   "execution_count": 737,
   "id": "4ec99897",
   "metadata": {},
   "outputs": [
    {
     "data": {
      "text/html": [
       "<div>\n",
       "<style scoped>\n",
       "    .dataframe tbody tr th:only-of-type {\n",
       "        vertical-align: middle;\n",
       "    }\n",
       "\n",
       "    .dataframe tbody tr th {\n",
       "        vertical-align: top;\n",
       "    }\n",
       "\n",
       "    .dataframe thead th {\n",
       "        text-align: right;\n",
       "    }\n",
       "</style>\n",
       "<table border=\"1\" class=\"dataframe\">\n",
       "  <thead>\n",
       "    <tr style=\"text-align: right;\">\n",
       "      <th></th>\n",
       "      <th>id</th>\n",
       "      <th>restaurant_type</th>\n",
       "    </tr>\n",
       "  </thead>\n",
       "  <tbody>\n",
       "    <tr>\n",
       "      <th>0</th>\n",
       "      <td>1</td>\n",
       "      <td>Fast Food</td>\n",
       "    </tr>\n",
       "    <tr>\n",
       "      <th>1</th>\n",
       "      <td>2</td>\n",
       "      <td>Asian</td>\n",
       "    </tr>\n",
       "    <tr>\n",
       "      <th>2</th>\n",
       "      <td>3</td>\n",
       "      <td>Italian</td>\n",
       "    </tr>\n",
       "    <tr>\n",
       "      <th>3</th>\n",
       "      <td>4</td>\n",
       "      <td>Homemade</td>\n",
       "    </tr>\n",
       "    <tr>\n",
       "      <th>4</th>\n",
       "      <td>5</td>\n",
       "      <td>Indian</td>\n",
       "    </tr>\n",
       "  </tbody>\n",
       "</table>\n",
       "</div>"
      ],
      "text/plain": [
       "   id restaurant_type\n",
       "0   1       Fast Food\n",
       "1   2           Asian\n",
       "2   3         Italian\n",
       "3   4        Homemade\n",
       "4   5          Indian"
      ]
     },
     "execution_count": 737,
     "metadata": {},
     "output_type": "execute_result"
    }
   ],
   "source": [
    "restaurant_types.head()"
   ]
  },
  {
   "cell_type": "code",
   "execution_count": 738,
   "id": "ff86cb5f",
   "metadata": {},
   "outputs": [],
   "source": [
    "restaurants = pd.read_csv('Project1_dataset/restaurants.csv')"
   ]
  },
  {
   "cell_type": "code",
   "execution_count": 739,
   "id": "65a98ced",
   "metadata": {},
   "outputs": [
    {
     "data": {
      "text/html": [
       "<div>\n",
       "<style scoped>\n",
       "    .dataframe tbody tr th:only-of-type {\n",
       "        vertical-align: middle;\n",
       "    }\n",
       "\n",
       "    .dataframe tbody tr th {\n",
       "        vertical-align: top;\n",
       "    }\n",
       "\n",
       "    .dataframe thead th {\n",
       "        text-align: right;\n",
       "    }\n",
       "</style>\n",
       "<table border=\"1\" class=\"dataframe\">\n",
       "  <thead>\n",
       "    <tr style=\"text-align: right;\">\n",
       "      <th></th>\n",
       "      <th>id</th>\n",
       "      <th>restaurant_name</th>\n",
       "      <th>restaurant_type_id</th>\n",
       "      <th>income_persentage</th>\n",
       "      <th>city_id</th>\n",
       "    </tr>\n",
       "  </thead>\n",
       "  <tbody>\n",
       "    <tr>\n",
       "      <th>0</th>\n",
       "      <td>1</td>\n",
       "      <td>Restaurant 1</td>\n",
       "      <td>3</td>\n",
       "      <td>0.075</td>\n",
       "      <td>3</td>\n",
       "    </tr>\n",
       "    <tr>\n",
       "      <th>1</th>\n",
       "      <td>2</td>\n",
       "      <td>Restaurant 2</td>\n",
       "      <td>5</td>\n",
       "      <td>0.100</td>\n",
       "      <td>3</td>\n",
       "    </tr>\n",
       "    <tr>\n",
       "      <th>2</th>\n",
       "      <td>3</td>\n",
       "      <td>Restaurant 3</td>\n",
       "      <td>2</td>\n",
       "      <td>0.075</td>\n",
       "      <td>4</td>\n",
       "    </tr>\n",
       "    <tr>\n",
       "      <th>3</th>\n",
       "      <td>4</td>\n",
       "      <td>Restaurant 4</td>\n",
       "      <td>4</td>\n",
       "      <td>0.100</td>\n",
       "      <td>4</td>\n",
       "    </tr>\n",
       "    <tr>\n",
       "      <th>4</th>\n",
       "      <td>5</td>\n",
       "      <td>Restaurant 5</td>\n",
       "      <td>5</td>\n",
       "      <td>0.050</td>\n",
       "      <td>2</td>\n",
       "    </tr>\n",
       "  </tbody>\n",
       "</table>\n",
       "</div>"
      ],
      "text/plain": [
       "   id restaurant_name  restaurant_type_id  income_persentage  city_id\n",
       "0   1    Restaurant 1                   3              0.075        3\n",
       "1   2    Restaurant 2                   5              0.100        3\n",
       "2   3    Restaurant 3                   2              0.075        4\n",
       "3   4    Restaurant 4                   4              0.100        4\n",
       "4   5    Restaurant 5                   5              0.050        2"
      ]
     },
     "execution_count": 739,
     "metadata": {},
     "output_type": "execute_result"
    }
   ],
   "source": [
    "restaurants.head()"
   ]
  },
  {
   "cell_type": "code",
   "execution_count": 740,
   "id": "20b1fa17",
   "metadata": {},
   "outputs": [],
   "source": [
    "serve_types = pd.read_csv('Project1_dataset/serve_types.csv')"
   ]
  },
  {
   "cell_type": "code",
   "execution_count": 741,
   "id": "069cff56",
   "metadata": {},
   "outputs": [
    {
     "data": {
      "text/html": [
       "<div>\n",
       "<style scoped>\n",
       "    .dataframe tbody tr th:only-of-type {\n",
       "        vertical-align: middle;\n",
       "    }\n",
       "\n",
       "    .dataframe tbody tr th {\n",
       "        vertical-align: top;\n",
       "    }\n",
       "\n",
       "    .dataframe thead th {\n",
       "        text-align: right;\n",
       "    }\n",
       "</style>\n",
       "<table border=\"1\" class=\"dataframe\">\n",
       "  <thead>\n",
       "    <tr style=\"text-align: right;\">\n",
       "      <th></th>\n",
       "      <th>id</th>\n",
       "      <th>serve_type</th>\n",
       "    </tr>\n",
       "  </thead>\n",
       "  <tbody>\n",
       "    <tr>\n",
       "      <th>0</th>\n",
       "      <td>1</td>\n",
       "      <td>Starter</td>\n",
       "    </tr>\n",
       "    <tr>\n",
       "      <th>1</th>\n",
       "      <td>2</td>\n",
       "      <td>Main</td>\n",
       "    </tr>\n",
       "    <tr>\n",
       "      <th>2</th>\n",
       "      <td>3</td>\n",
       "      <td>Desert</td>\n",
       "    </tr>\n",
       "  </tbody>\n",
       "</table>\n",
       "</div>"
      ],
      "text/plain": [
       "   id serve_type\n",
       "0   1    Starter\n",
       "1   2       Main\n",
       "2   3     Desert"
      ]
     },
     "execution_count": 741,
     "metadata": {},
     "output_type": "execute_result"
    }
   ],
   "source": [
    "serve_types.head()"
   ]
  },
  {
   "cell_type": "code",
   "execution_count": 742,
   "id": "766acb9f",
   "metadata": {},
   "outputs": [],
   "source": [
    "monthly_member_totals = monthly_member_totals.drop(['balance','commission'],axis = 1)"
   ]
  },
  {
   "cell_type": "code",
   "execution_count": 743,
   "id": "98cdd2dd",
   "metadata": {},
   "outputs": [
    {
     "data": {
      "text/html": [
       "<div>\n",
       "<style scoped>\n",
       "    .dataframe tbody tr th:only-of-type {\n",
       "        vertical-align: middle;\n",
       "    }\n",
       "\n",
       "    .dataframe tbody tr th {\n",
       "        vertical-align: top;\n",
       "    }\n",
       "\n",
       "    .dataframe thead th {\n",
       "        text-align: right;\n",
       "    }\n",
       "</style>\n",
       "<table border=\"1\" class=\"dataframe\">\n",
       "  <thead>\n",
       "    <tr style=\"text-align: right;\">\n",
       "      <th></th>\n",
       "      <th>member_id</th>\n",
       "      <th>first_name</th>\n",
       "      <th>surname</th>\n",
       "      <th>sex</th>\n",
       "      <th>email</th>\n",
       "      <th>city</th>\n",
       "      <th>year</th>\n",
       "      <th>month</th>\n",
       "      <th>order_count</th>\n",
       "      <th>meals_count</th>\n",
       "      <th>monthly_budget</th>\n",
       "      <th>total_expense</th>\n",
       "    </tr>\n",
       "  </thead>\n",
       "  <tbody>\n",
       "    <tr>\n",
       "      <th>0</th>\n",
       "      <td>47</td>\n",
       "      <td>Joyce</td>\n",
       "      <td>Newton</td>\n",
       "      <td>F</td>\n",
       "      <td>Joyce.Ne@gmail.com</td>\n",
       "      <td>Herzelia</td>\n",
       "      <td>2020</td>\n",
       "      <td>1</td>\n",
       "      <td>17</td>\n",
       "      <td>37</td>\n",
       "      <td>1836.15</td>\n",
       "      <td>500.0</td>\n",
       "    </tr>\n",
       "    <tr>\n",
       "      <th>1</th>\n",
       "      <td>126</td>\n",
       "      <td>Macey</td>\n",
       "      <td>Almond</td>\n",
       "      <td>M</td>\n",
       "      <td>Macey.Almond@yahoo.com</td>\n",
       "      <td>Tel Aviv</td>\n",
       "      <td>2020</td>\n",
       "      <td>1</td>\n",
       "      <td>30</td>\n",
       "      <td>64</td>\n",
       "      <td>2676.98</td>\n",
       "      <td>1000.0</td>\n",
       "    </tr>\n",
       "    <tr>\n",
       "      <th>2</th>\n",
       "      <td>68</td>\n",
       "      <td>Aydin</td>\n",
       "      <td>Hirst</td>\n",
       "      <td>M</td>\n",
       "      <td>Aydin.Hirst@hotmail.com</td>\n",
       "      <td>Tel Aviv</td>\n",
       "      <td>2020</td>\n",
       "      <td>1</td>\n",
       "      <td>24</td>\n",
       "      <td>52</td>\n",
       "      <td>2286.53</td>\n",
       "      <td>1000.0</td>\n",
       "    </tr>\n",
       "    <tr>\n",
       "      <th>3</th>\n",
       "      <td>193</td>\n",
       "      <td>Mira</td>\n",
       "      <td>Kent</td>\n",
       "      <td>M</td>\n",
       "      <td>Mi.Kent@walla.co.il</td>\n",
       "      <td>Tel Aviv</td>\n",
       "      <td>2020</td>\n",
       "      <td>1</td>\n",
       "      <td>24</td>\n",
       "      <td>54</td>\n",
       "      <td>2547.62</td>\n",
       "      <td>500.0</td>\n",
       "    </tr>\n",
       "    <tr>\n",
       "      <th>4</th>\n",
       "      <td>53</td>\n",
       "      <td>Lilly-Ann</td>\n",
       "      <td>Frey</td>\n",
       "      <td>F</td>\n",
       "      <td>Li.Fr@hotmail.com</td>\n",
       "      <td>Tel Aviv</td>\n",
       "      <td>2020</td>\n",
       "      <td>1</td>\n",
       "      <td>23</td>\n",
       "      <td>50</td>\n",
       "      <td>2456.64</td>\n",
       "      <td>1000.0</td>\n",
       "    </tr>\n",
       "  </tbody>\n",
       "</table>\n",
       "</div>"
      ],
      "text/plain": [
       "   member_id first_name surname sex                    email      city  year   \n",
       "0         47      Joyce  Newton   F       Joyce.Ne@gmail.com  Herzelia  2020  \\\n",
       "1        126      Macey  Almond   M   Macey.Almond@yahoo.com  Tel Aviv  2020   \n",
       "2         68      Aydin   Hirst   M  Aydin.Hirst@hotmail.com  Tel Aviv  2020   \n",
       "3        193       Mira    Kent   M      Mi.Kent@walla.co.il  Tel Aviv  2020   \n",
       "4         53  Lilly-Ann    Frey   F        Li.Fr@hotmail.com  Tel Aviv  2020   \n",
       "\n",
       "   month  order_count  meals_count  monthly_budget  total_expense  \n",
       "0      1           17           37         1836.15          500.0  \n",
       "1      1           30           64         2676.98         1000.0  \n",
       "2      1           24           52         2286.53         1000.0  \n",
       "3      1           24           54         2547.62          500.0  \n",
       "4      1           23           50         2456.64         1000.0  "
      ]
     },
     "execution_count": 743,
     "metadata": {},
     "output_type": "execute_result"
    }
   ],
   "source": [
    "monthly_member_totals.head()"
   ]
  },
  {
   "cell_type": "markdown",
   "id": "c9ba2b31",
   "metadata": {},
   "source": [
    "### Calling the function to create database"
   ]
  },
  {
   "cell_type": "code",
   "execution_count": 744,
   "id": "2d467e38",
   "metadata": {},
   "outputs": [],
   "source": [
    "cur, conn = create_database()"
   ]
  },
  {
   "cell_type": "markdown",
   "id": "39d0dc22",
   "metadata": {},
   "source": [
    "### Defining an SQL query to create a table and executing it using cursor object"
   ]
  },
  {
   "cell_type": "code",
   "execution_count": 745,
   "id": "0b425584",
   "metadata": {},
   "outputs": [],
   "source": [
    "#defining an sql query to create a table and assigning it to a variable\n",
    "create_cities_table = (\"\"\"CREATE TABLE IF NOT EXISTS cities(\n",
    "city_id int,\n",
    "city varchar(100))\"\"\")\n",
    "\n",
    "#using cursor object, we execute the query\n",
    "cur.execute(create_cities_table)\n",
    "#we commit the changes made to the database\n",
    "conn.commit()"
   ]
  },
  {
   "cell_type": "code",
   "execution_count": 746,
   "id": "b0f2b0c2",
   "metadata": {},
   "outputs": [],
   "source": [
    "create_meal_types_table = (\"\"\"CREATE TABLE IF NOT EXISTS meal_types(\n",
    "meal_type_id int,\n",
    "meal_type varchar(100))\"\"\")\n",
    "\n",
    "cur.execute(create_meal_types_table)\n",
    "conn.commit()"
   ]
  },
  {
   "cell_type": "code",
   "execution_count": 747,
   "id": "a5587950",
   "metadata": {},
   "outputs": [],
   "source": [
    "create_meals_table = (\"\"\"CREATE TABLE IF NOT EXISTS meals(\n",
    "meal_id int,\n",
    "restaurant_id int,\n",
    "serve_type_id int,\n",
    "meal_type_id int,\n",
    "hot_cold varchar(10),\n",
    "meal_name varchar(10),\n",
    "price float)\"\"\")\n",
    "\n",
    "cur.execute(create_meals_table)\n",
    "conn.commit()"
   ]
  },
  {
   "cell_type": "code",
   "execution_count": 748,
   "id": "5d249313",
   "metadata": {},
   "outputs": [],
   "source": [
    "create_members_table = (\"\"\"CREATE TABLE IF NOT EXISTS members(\n",
    "member_id int,\n",
    "first_name varchar(100),\n",
    "surname varchar(100),\n",
    "sex varchar(10),\n",
    "email varchar(100),\n",
    "city_id int,\n",
    "monthly_budget float)\"\"\")\n",
    "\n",
    "cur.execute(create_members_table)\n",
    "conn.commit()"
   ]
  },
  {
   "cell_type": "code",
   "execution_count": 749,
   "id": "57484f15",
   "metadata": {},
   "outputs": [],
   "source": [
    "create_monthly_member_totals_table = (\"\"\"CREATE TABLE IF NOT EXISTS monthly_member_totals(\n",
    "member_id int,\n",
    "first_name varchar(100),\n",
    "surname varchar(100),\n",
    "sex varchar(10),\n",
    "email varchar(100),\n",
    "city varchar(100),\n",
    "year int,\n",
    "month int,\n",
    "order_count int,\n",
    "meals_count int,\n",
    "monthly_budget float,\n",
    "total_expense float)\"\"\")\n",
    "\n",
    "cur.execute(create_monthly_member_totals_table)\n",
    "conn.commit()"
   ]
  },
  {
   "cell_type": "code",
   "execution_count": 750,
   "id": "f7df7f7b",
   "metadata": {},
   "outputs": [],
   "source": [
    "create_order_details_table = (\"\"\"CREATE TABLE IF NOT EXISTS order_details(\n",
    "order_detail_id int,\n",
    "order_id int,\n",
    "meal_id int)\"\"\")\n",
    "\n",
    "cur.execute(create_order_details_table)\n",
    "conn.commit()"
   ]
  },
  {
   "cell_type": "code",
   "execution_count": 751,
   "id": "3b606570",
   "metadata": {},
   "outputs": [],
   "source": [
    "create_orders_table = (\"\"\"CREATE TABLE IF NOT EXISTS orders(\n",
    "order_id int,\n",
    "date date,\n",
    "hour time,\n",
    "member_id int,\n",
    "restaurant_id int,\n",
    "total_order float)\"\"\")\n",
    "\n",
    "cur.execute(create_orders_table)\n",
    "conn.commit()"
   ]
  },
  {
   "cell_type": "code",
   "execution_count": 752,
   "id": "5e030d7e",
   "metadata": {},
   "outputs": [],
   "source": [
    "create_restaurant_types_table = (\"\"\"CREATE TABLE IF NOT EXISTS restaurant_types(\n",
    "restaurant_type__id int,\n",
    "restaurant_type varchar(100))\"\"\")\n",
    "\n",
    "cur.execute(create_restaurant_types_table)\n",
    "conn.commit()"
   ]
  },
  {
   "cell_type": "code",
   "execution_count": 753,
   "id": "7d5ff88c",
   "metadata": {},
   "outputs": [],
   "source": [
    "create_restaurants_table = (\"\"\"CREATE TABLE IF NOT EXISTS restaurants(\n",
    "restaurant_id int,\n",
    "restaurant_name varchar(100),\n",
    "restaurant_type_id int,\n",
    "income_percentage float,\n",
    "city_id int)\"\"\")\n",
    "\n",
    "cur.execute(create_restaurants_table)\n",
    "conn.commit()"
   ]
  },
  {
   "cell_type": "code",
   "execution_count": 754,
   "id": "8a7e4bb3",
   "metadata": {},
   "outputs": [],
   "source": [
    "create_serve_types_table = (\"\"\"CREATE TABLE IF NOT EXISTS serve_types(\n",
    "serve_type_id int,\n",
    "serve_type varchar(100))\"\"\")\n",
    "\n",
    "cur.execute(create_serve_types_table)\n",
    "conn.commit()"
   ]
  },
  {
   "cell_type": "markdown",
   "id": "94235bd4",
   "metadata": {},
   "source": [
    "### Defining an SQL query to insert data into a table"
   ]
  },
  {
   "cell_type": "code",
   "execution_count": 755,
   "id": "be91db8a",
   "metadata": {},
   "outputs": [],
   "source": [
    "insert_cities_table = (\"\"\"INSERT INTO cities(\n",
    "city_id,\n",
    "city)\n",
    "VALUES(%s, %s)\"\"\")\n"
   ]
  },
  {
   "cell_type": "markdown",
   "id": "b6dda220",
   "metadata": {},
   "source": [
    "### Executing the query by looping through each row in the dataframe and inserting the row's values in the table"
   ]
  },
  {
   "cell_type": "code",
   "execution_count": 756,
   "id": "a8053b4a",
   "metadata": {},
   "outputs": [],
   "source": [
    "for i,row in cities.iterrows():\n",
    "    cur.execute(insert_cities_table, list(row))\n",
    "conn.commit()"
   ]
  },
  {
   "cell_type": "code",
   "execution_count": 757,
   "id": "9a756ec7",
   "metadata": {},
   "outputs": [],
   "source": [
    "insert_meal_types_table = (\"\"\"INSERT INTO meal_types(\n",
    "meal_type_id,\n",
    "meal_type)\n",
    "VALUES(%s, %s)\"\"\")\n"
   ]
  },
  {
   "cell_type": "code",
   "execution_count": 758,
   "id": "a44c5af6",
   "metadata": {},
   "outputs": [],
   "source": [
    "for i,row in meal_types.iterrows():\n",
    "    cur.execute(insert_meal_types_table, list(row))\n",
    "conn.commit()"
   ]
  },
  {
   "cell_type": "code",
   "execution_count": 759,
   "id": "6c38f14f",
   "metadata": {},
   "outputs": [],
   "source": [
    "insert_meals_table = (\"\"\"INSERT INTO meals(\n",
    "meal_id,\n",
    "restaurant_id,\n",
    "serve_type_id,\n",
    "meal_type_id,\n",
    "hot_cold,\n",
    "meal_name,\n",
    "price)\n",
    "VALUES(%s, %s, %s, %s, %s, %s, %s)\"\"\")\n",
    "\n"
   ]
  },
  {
   "cell_type": "code",
   "execution_count": 760,
   "id": "5c47ac9e",
   "metadata": {},
   "outputs": [],
   "source": [
    "for i,row in meals.iterrows():\n",
    "    cur.execute(insert_meals_table, list(row))\n",
    "conn.commit()"
   ]
  },
  {
   "cell_type": "code",
   "execution_count": 761,
   "id": "94471552",
   "metadata": {},
   "outputs": [],
   "source": [
    "insert_members_table = (\"\"\"INSERT INTO members(\n",
    "member_id,\n",
    "first_name,\n",
    "surname,\n",
    "sex,\n",
    "email,\n",
    "city_id,\n",
    "monthly_budget)\n",
    "VALUES(%s, %s, %s, %s, %s, %s, %s)\"\"\")\n"
   ]
  },
  {
   "cell_type": "code",
   "execution_count": 762,
   "id": "a83912ac",
   "metadata": {},
   "outputs": [],
   "source": [
    "for i,row in members.iterrows():\n",
    "    cur.execute(insert_members_table, list(row))\n",
    "conn.commit()"
   ]
  },
  {
   "cell_type": "code",
   "execution_count": 763,
   "id": "d6a40866",
   "metadata": {},
   "outputs": [],
   "source": [
    "insert_monthly_member_totals_table = (\"\"\"INSERT INTO monthly_member_totals(\n",
    "member_id,\n",
    "first_name,\n",
    "surname,\n",
    "sex,\n",
    "email,\n",
    "city,\n",
    "year,\n",
    "month,\n",
    "order_count,\n",
    "meals_count,\n",
    "monthly_budget,\n",
    "total_expense)\n",
    "VALUES(%s, %s, %s, %s, %s, %s, %s, %s, %s, %s, %s, %s)\"\"\")\n"
   ]
  },
  {
   "cell_type": "code",
   "execution_count": 764,
   "id": "fe2a59a4",
   "metadata": {},
   "outputs": [],
   "source": [
    "for i,row in monthly_member_totals.iterrows():\n",
    "    cur.execute(insert_monthly_member_totals_table, list(row))\n",
    "conn.commit()"
   ]
  },
  {
   "cell_type": "code",
   "execution_count": 765,
   "id": "aad0692d",
   "metadata": {},
   "outputs": [],
   "source": [
    "insert_order_details_table = (\"\"\"INSERT INTO order_details(\n",
    "order_detail_id,\n",
    "order_id,\n",
    "meal_id)\n",
    "VALUES(%s, %s, %s)\"\"\")"
   ]
  },
  {
   "cell_type": "code",
   "execution_count": 766,
   "id": "8b506d39",
   "metadata": {},
   "outputs": [],
   "source": [
    "for i,row in order_details.iterrows():\n",
    "    cur.execute(insert_order_details_table, list(row))\n",
    "conn.commit()"
   ]
  },
  {
   "cell_type": "code",
   "execution_count": 767,
   "id": "79353ac9",
   "metadata": {},
   "outputs": [],
   "source": [
    "insert_orders_table = (\"\"\"INSERT INTO orders(\n",
    "order_id,\n",
    "date,\n",
    "hour,\n",
    "member_id,\n",
    "restaurant_id,\n",
    "total_order)\n",
    "VALUES(%s, %s, %s, %s, %s, %s)\"\"\")"
   ]
  },
  {
   "cell_type": "code",
   "execution_count": 768,
   "id": "38f072b9",
   "metadata": {},
   "outputs": [],
   "source": [
    "for i,row in orders.iterrows():\n",
    "    cur.execute(insert_orders_table, list(row))\n",
    "conn.commit()"
   ]
  },
  {
   "cell_type": "code",
   "execution_count": 769,
   "id": "eea56833",
   "metadata": {},
   "outputs": [],
   "source": [
    "insert_restaurant_types_table = (\"\"\"INSERT INTO restaurant_types(\n",
    "restaurant_type__id,\n",
    "restaurant_type)\n",
    "VALUES(%s, %s)\"\"\")"
   ]
  },
  {
   "cell_type": "code",
   "execution_count": 770,
   "id": "2d31fb01",
   "metadata": {},
   "outputs": [],
   "source": [
    "for i,row in restaurant_types.iterrows():\n",
    "    cur.execute(insert_restaurant_types_table, list(row))\n",
    "conn.commit()"
   ]
  },
  {
   "cell_type": "code",
   "execution_count": 771,
   "id": "af6491e7",
   "metadata": {},
   "outputs": [],
   "source": [
    "insert_restaurants_table = (\"\"\"INSERT INTO restaurants(\n",
    "restaurant_id,\n",
    "restaurant_name,\n",
    "restaurant_type_id,\n",
    "income_percentage,\n",
    "city_id)\n",
    "VALUES(%s, %s, %s, %s, %s)\"\"\")"
   ]
  },
  {
   "cell_type": "code",
   "execution_count": 772,
   "id": "e01f1053",
   "metadata": {},
   "outputs": [],
   "source": [
    "for i,row in restaurants.iterrows():\n",
    "    cur.execute(insert_restaurants_table, list(row))\n",
    "conn.commit()"
   ]
  },
  {
   "cell_type": "code",
   "execution_count": 773,
   "id": "976d2de3",
   "metadata": {},
   "outputs": [],
   "source": [
    "insert_serve_types_table = (\"\"\"INSERT INTO serve_types(\n",
    "serve_type_id,\n",
    "serve_type)\n",
    "VALUES(%s, %s)\"\"\")"
   ]
  },
  {
   "cell_type": "code",
   "execution_count": 774,
   "id": "c08880c3",
   "metadata": {},
   "outputs": [],
   "source": [
    "for i,row in serve_types.iterrows():\n",
    "    cur.execute(insert_serve_types_table, list(row))\n",
    "conn.commit()"
   ]
  },
  {
   "cell_type": "markdown",
   "id": "ac8f63a7",
   "metadata": {},
   "source": [
    "###  Validating whether our data was inserted into the table using select statement"
   ]
  },
  {
   "cell_type": "code",
   "execution_count": 775,
   "id": "c6253dab",
   "metadata": {},
   "outputs": [
    {
     "name": "stdout",
     "output_type": "stream",
     "text": [
      "(1, 'Tel Aviv')\n",
      "(2, 'Ramat Gan')\n",
      "(3, 'Ramat Hasharon')\n",
      "(4, 'Herzelia')\n",
      "(5, 'Givatayim')\n"
     ]
    }
   ],
   "source": [
    "try:\n",
    "    cur.execute(\"SELECT * FROM cities;\")\n",
    "except psycopg2.Error as e:\n",
    "    print(\"Error: Selecting rows\")\n",
    "    print(e)\n",
    "    \n",
    "row = cur.fetchone()\n",
    "while row:\n",
    "    print(row)\n",
    "    row = cur.fetchone()"
   ]
  },
  {
   "cell_type": "code",
   "execution_count": 776,
   "id": "e16a1ae8",
   "metadata": {},
   "outputs": [
    {
     "name": "stdout",
     "output_type": "stream",
     "text": [
      "(1, 'Restaurant 1', 3, 0.075, 3)\n",
      "(2, 'Restaurant 2', 5, 0.1, 3)\n",
      "(3, 'Restaurant 3', 2, 0.075, 4)\n",
      "(4, 'Restaurant 4', 4, 0.1, 4)\n",
      "(5, 'Restaurant 5', 5, 0.05, 2)\n",
      "(6, 'Restaurant 6', 1, 0.05, 2)\n",
      "(7, 'Restaurant 7', 1, 0.1, 4)\n",
      "(8, 'Restaurant 8', 2, 0.075, 5)\n",
      "(9, 'Restaurant 9', 1, 0.075, 4)\n",
      "(10, 'Restaurant 10', 4, 0.1, 2)\n",
      "(11, 'Restaurant 11', 5, 0.075, 4)\n",
      "(12, 'Restaurant 12', 5, 0.075, 3)\n",
      "(13, 'Restaurant 13', 5, 0.075, 3)\n",
      "(14, 'Restaurant 14', 1, 0.05, 3)\n",
      "(15, 'Restaurant 15', 1, 0.1, 4)\n",
      "(16, 'Restaurant 16', 1, 0.075, 3)\n",
      "(17, 'Restaurant 17', 1, 0.05, 2)\n",
      "(18, 'Restaurant 18', 3, 0.05, 3)\n",
      "(19, 'Restaurant 19', 2, 0.1, 2)\n",
      "(20, 'Restaurant 20', 1, 0.075, 2)\n",
      "(21, 'Restaurant 21', 2, 0.05, 1)\n",
      "(22, 'Restaurant 22', 1, 0.075, 5)\n",
      "(23, 'Restaurant 23', 1, 0.1, 1)\n",
      "(24, 'Restaurant 24', 3, 0.05, 1)\n",
      "(25, 'Restaurant 25', 3, 0.1, 4)\n",
      "(26, 'Restaurant 26', 2, 0.075, 1)\n",
      "(27, 'Restaurant 27', 5, 0.1, 4)\n",
      "(28, 'Restaurant 28', 2, 0.1, 1)\n",
      "(29, 'Restaurant 29', 2, 0.05, 5)\n",
      "(30, 'Restaurant 30', 4, 0.075, 1)\n"
     ]
    }
   ],
   "source": [
    "try:\n",
    "    cur.execute(\"SELECT * FROM restaurants;\")\n",
    "except psycopg2.Error as e:\n",
    "    print(\"Error: Selecting rows\")\n",
    "    print(e)\n",
    "    \n",
    "row = cur.fetchone()\n",
    "while row:\n",
    "    print(row)\n",
    "    row = cur.fetchone()"
   ]
  },
  {
   "cell_type": "markdown",
   "id": "d0afedd6",
   "metadata": {},
   "source": [
    "###### We can see that the data has been inserted into the tables successfully"
   ]
  },
  {
   "cell_type": "markdown",
   "id": "e1403c58",
   "metadata": {},
   "source": [
    "### Finally we close the database connection"
   ]
  },
  {
   "cell_type": "code",
   "execution_count": 777,
   "id": "f81f0937",
   "metadata": {},
   "outputs": [],
   "source": [
    "cur.close()\n",
    "conn.close()"
   ]
  },
  {
   "cell_type": "markdown",
   "id": "04d152ed",
   "metadata": {},
   "source": [
    "###### Hence I have completed the project which helped me to learn about connecting to the PostgreSQL database, creating databases and executing SQL  queries on the database using python."
   ]
  },
  {
   "cell_type": "code",
   "execution_count": null,
   "id": "0c371406",
   "metadata": {},
   "outputs": [],
   "source": []
  }
 ],
 "metadata": {
  "kernelspec": {
   "display_name": "Python 3 (ipykernel)",
   "language": "python",
   "name": "python3"
  },
  "language_info": {
   "codemirror_mode": {
    "name": "ipython",
    "version": 3
   },
   "file_extension": ".py",
   "mimetype": "text/x-python",
   "name": "python",
   "nbconvert_exporter": "python",
   "pygments_lexer": "ipython3",
   "version": "3.9.6"
  }
 },
 "nbformat": 4,
 "nbformat_minor": 5
}
